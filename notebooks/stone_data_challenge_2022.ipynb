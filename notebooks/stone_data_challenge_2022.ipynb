{
  "nbformat": 4,
  "nbformat_minor": 0,
  "metadata": {
    "colab": {
      "name": "stone_data_challenge_2022.ipynb",
      "provenance": [],
      "collapsed_sections": []
    },
    "kernelspec": {
      "name": "python3",
      "display_name": "Python 3"
    },
    "language_info": {
      "name": "python"
    }
  },
  "cells": [
    {
      "cell_type": "code",
      "source": [
        "!pip install dask[dataframe]"
      ],
      "metadata": {
        "colab": {
          "base_uri": "https://localhost:8080/"
        },
        "id": "7gP41o5eMmB1",
        "outputId": "6370b31e-d61e-4a2f-b9ec-1ac1bd94bf00"
      },
      "execution_count": 4,
      "outputs": [
        {
          "output_type": "stream",
          "name": "stdout",
          "text": [
            "Requirement already satisfied: dask[dataframe] in /usr/local/lib/python3.7/dist-packages (2.12.0)\n",
            "Collecting partd>=0.3.10\n",
            "  Downloading partd-1.2.0-py3-none-any.whl (19 kB)\n",
            "Requirement already satisfied: toolz>=0.7.3 in /usr/local/lib/python3.7/dist-packages (from dask[dataframe]) (0.11.2)\n",
            "Requirement already satisfied: numpy>=1.13.0 in /usr/local/lib/python3.7/dist-packages (from dask[dataframe]) (1.21.6)\n",
            "Collecting fsspec>=0.6.0\n",
            "  Downloading fsspec-2022.3.0-py3-none-any.whl (136 kB)\n",
            "\u001b[K     |████████████████████████████████| 136 kB 4.9 MB/s \n",
            "\u001b[?25hRequirement already satisfied: pandas>=0.23.0 in /usr/local/lib/python3.7/dist-packages (from dask[dataframe]) (1.3.5)\n",
            "Requirement already satisfied: pytz>=2017.3 in /usr/local/lib/python3.7/dist-packages (from pandas>=0.23.0->dask[dataframe]) (2022.1)\n",
            "Requirement already satisfied: python-dateutil>=2.7.3 in /usr/local/lib/python3.7/dist-packages (from pandas>=0.23.0->dask[dataframe]) (2.8.2)\n",
            "Collecting locket\n",
            "  Downloading locket-1.0.0-py2.py3-none-any.whl (4.4 kB)\n",
            "Requirement already satisfied: six>=1.5 in /usr/local/lib/python3.7/dist-packages (from python-dateutil>=2.7.3->pandas>=0.23.0->dask[dataframe]) (1.15.0)\n",
            "Installing collected packages: locket, partd, fsspec\n",
            "Successfully installed fsspec-2022.3.0 locket-1.0.0 partd-1.2.0\n"
          ]
        }
      ]
    },
    {
      "cell_type": "code",
      "source": [
        "'''\n",
        "from IPython.display import display\n",
        "from pyspark.conf import SparkConf\n",
        "from pyspark.sql import SparkSession\n",
        "from pyspark.context import SparkContext\n",
        "\n",
        "from IPython.display import HTML, display\n",
        "import tabulate\n",
        "'''\n",
        "\n",
        "import pandas as pd\n",
        "import numpy as np\n",
        "import re\n",
        "\n",
        "from dask import dataframe as dd\n",
        "from google.colab import files\n",
        "\n",
        "pd.options.display.max_colwidth = 100"
      ],
      "metadata": {
        "id": "UucNyLTd37vp"
      },
      "execution_count": 8,
      "outputs": []
    },
    {
      "cell_type": "markdown",
      "source": [
        "# 1. Preparação dos dados"
      ],
      "metadata": {
        "id": "Qp67smLmoFkH"
      }
    },
    {
      "cell_type": "code",
      "source": [
        "# Portfolio Clientes DataFrame\n",
        "clientes_df = dd.read_csv(\"/content/drive/MyDrive/Colab Datasets/Stone Data Challenge 2022/raw/portfolio_clientes.csv\")"
      ],
      "metadata": {
        "id": "M33urPKt4RDH"
      },
      "execution_count": 9,
      "outputs": []
    },
    {
      "cell_type": "code",
      "source": [
        "# Portfolio Comunicados DataFrame\n",
        "comunicados_df = dd.read_csv(\"/content/drive/MyDrive/Colab Datasets/Stone Data Challenge 2022/raw/portfolio_comunicados.csv\")"
      ],
      "metadata": {
        "id": "XFMMvnzGCfTd"
      },
      "execution_count": 26,
      "outputs": []
    },
    {
      "cell_type": "code",
      "source": [
        "# Portfolio Geral DataFrame\n",
        "geral_df = dd.read_csv(\"/content/drive/MyDrive/Colab Datasets/Stone Data Challenge 2022/raw/portfolio_geral.csv\")"
      ],
      "metadata": {
        "id": "pWvNvqFVCf4M"
      },
      "execution_count": 11,
      "outputs": []
    },
    {
      "cell_type": "code",
      "source": [
        "# Portfolio TPV DataFrame\n",
        "tpv_df = dd.read_csv(\"/content/drive/MyDrive/Colab Datasets/Stone Data Challenge 2022/raw/portfolio_tpv.csv\")"
      ],
      "metadata": {
        "id": "dn2OuujICgDv"
      },
      "execution_count": 12,
      "outputs": []
    },
    {
      "cell_type": "code",
      "source": [
        "print(type(clientes_df))\n",
        "print(type(comunicados_df))\n",
        "print(type(geral_df))\n",
        "print(type(tpv_df))"
      ],
      "metadata": {
        "id": "107xQf_T4gyL",
        "colab": {
          "base_uri": "https://localhost:8080/"
        },
        "outputId": "01d69296-43a0-424a-efd7-3687f27c8fb8"
      },
      "execution_count": 13,
      "outputs": [
        {
          "output_type": "stream",
          "name": "stdout",
          "text": [
            "<class 'dask.dataframe.core.DataFrame'>\n",
            "<class 'dask.dataframe.core.DataFrame'>\n",
            "<class 'dask.dataframe.core.DataFrame'>\n",
            "<class 'dask.dataframe.core.DataFrame'>\n"
          ]
        }
      ]
    },
    {
      "cell_type": "code",
      "source": [
        "clientes_df.compute().info()"
      ],
      "metadata": {
        "colab": {
          "base_uri": "https://localhost:8080/"
        },
        "id": "1sl_IDraC4Ma",
        "outputId": "f666bf22-ca74-4fe5-860e-a17ac9e8493d"
      },
      "execution_count": 16,
      "outputs": [
        {
          "output_type": "stream",
          "name": "stdout",
          "text": [
            "<class 'pandas.core.frame.DataFrame'>\n",
            "RangeIndex: 14405 entries, 0 to 14404\n",
            "Data columns (total 6 columns):\n",
            " #   Column        Non-Null Count  Dtype \n",
            "---  ------        --------------  ----- \n",
            " 0   nr_documento  14405 non-null  object\n",
            " 1   tipo_empresa  14405 non-null  object\n",
            " 2   cidade        14405 non-null  object\n",
            " 3   estado        14405 non-null  object\n",
            " 4   subsegmento   14405 non-null  object\n",
            " 5   segmento      14405 non-null  object\n",
            "dtypes: object(6)\n",
            "memory usage: 675.4+ KB\n"
          ]
        }
      ]
    },
    {
      "cell_type": "code",
      "source": [
        "comunicados_df.compute().info()"
      ],
      "metadata": {
        "colab": {
          "base_uri": "https://localhost:8080/"
        },
        "id": "CCn8TJ244rKW",
        "outputId": "b095385c-4db4-4739-ef94-8413a7aecb44"
      },
      "execution_count": 23,
      "outputs": [
        {
          "output_type": "stream",
          "name": "stdout",
          "text": [
            "<class 'pandas.core.frame.DataFrame'>\n",
            "RangeIndex: 403740 entries, 0 to 403739\n",
            "Data columns (total 6 columns):\n",
            " #   Column            Non-Null Count   Dtype \n",
            "---  ------            --------------   ----- \n",
            " 0   contrato_id       403740 non-null  object\n",
            " 1   dt_ref_portfolio  403740 non-null  object\n",
            " 2   data_acao         403740 non-null  object\n",
            " 3   tipo_acao         403740 non-null  object\n",
            " 4   acao              403740 non-null  object\n",
            " 5   status            403740 non-null  object\n",
            "dtypes: object(6)\n",
            "memory usage: 18.5+ MB\n"
          ]
        }
      ]
    },
    {
      "cell_type": "code",
      "source": [
        "geral_df.compute().info()"
      ],
      "metadata": {
        "colab": {
          "base_uri": "https://localhost:8080/"
        },
        "id": "fU22Ho5N4uIl",
        "outputId": "66b312e3-520d-430d-87bf-649bcce34028"
      },
      "execution_count": 18,
      "outputs": [
        {
          "output_type": "stream",
          "name": "stdout",
          "text": [
            "<class 'pandas.core.frame.DataFrame'>\n",
            "Int64Index: 8061006 entries, 0 to 260050\n",
            "Data columns (total 22 columns):\n",
            " #   Column                      Dtype  \n",
            "---  ------                      -----  \n",
            " 0   contrato_id                 object \n",
            " 1   dt_ref_portfolio            object \n",
            " 2   safra                       object \n",
            " 3   nr_documento                object \n",
            " 4   status_contrato             object \n",
            " 5   dt_contrato                 object \n",
            " 6   dt_desembolso               object \n",
            " 7   dt_vencimento               object \n",
            " 8   dt_wo                       object \n",
            " 9   prazo                       float64\n",
            " 10  vlr_desembolsado            float64\n",
            " 11  vlr_tarifa                  float64\n",
            " 12  juros_mes                   float64\n",
            " 13  juros_diario                float64\n",
            " 14  perc_retencao               float64\n",
            " 15  vlr_pgto_realizado          float64\n",
            " 16  vlr_pgto_esperado           float64\n",
            " 17  vlr_saldo_devedor           float64\n",
            " 18  vlr_saldo_devedor_esperado  float64\n",
            " 19  dsp                         int64  \n",
            " 20  dspp                        int64  \n",
            " 21  flag_transacao              int64  \n",
            "dtypes: float64(10), int64(3), object(9)\n",
            "memory usage: 1.4+ GB\n"
          ]
        }
      ]
    },
    {
      "cell_type": "code",
      "source": [
        "tpv_df.compute().info()"
      ],
      "metadata": {
        "colab": {
          "base_uri": "https://localhost:8080/"
        },
        "id": "z2w1Q5DFC703",
        "outputId": "fb4856ea-b07d-42f2-9c60-c22e929e3c69"
      },
      "execution_count": 19,
      "outputs": [
        {
          "output_type": "stream",
          "name": "stdout",
          "text": [
            "<class 'pandas.core.frame.DataFrame'>\n",
            "Int64Index: 4408597 entries, 0 to 1101395\n",
            "Data columns (total 4 columns):\n",
            " #   Column          Dtype  \n",
            "---  ------          -----  \n",
            " 0   nr_documento    object \n",
            " 1   dt_transacao    int64  \n",
            " 2   qtd_transacoes  int64  \n",
            " 3   vlr_tpv         float64\n",
            "dtypes: float64(1), int64(2), object(1)\n",
            "memory usage: 168.2+ MB\n"
          ]
        }
      ]
    },
    {
      "cell_type": "code",
      "source": [
        "comunicados_df = comunicados_df.astype({'dt_ref_portfolio': 'datetime64', 'data_acao': 'datetime64'})"
      ],
      "metadata": {
        "id": "W5Gw-xcrUZ95"
      },
      "execution_count": 30,
      "outputs": []
    },
    {
      "cell_type": "code",
      "source": [
        "geral_df = geral_df.astype({\n",
        "    'dt_ref_portfolio': 'datetime64',\n",
        "    'safra': 'datetime64',\n",
        "    'dt_contrato': 'datetime64',\n",
        "    'dt_desembolso': 'datetime64',\n",
        "    'dt_vencimento': 'datetime64',\n",
        "    'dt_wo': 'datetime64',\n",
        "    'prazo': 'int'\n",
        "})"
      ],
      "metadata": {
        "id": "7KZqNDSNWOGw"
      },
      "execution_count": 31,
      "outputs": []
    },
    {
      "cell_type": "code",
      "source": [
        "tpv_df = tpv_df.astype({'dt_transacao': 'object'})"
      ],
      "metadata": {
        "id": "03NwBpIyGtXL"
      },
      "execution_count": 32,
      "outputs": []
    },
    {
      "cell_type": "code",
      "source": [
        "print(f'DataFrame Portfolio Clientes tem {clientes_df.compute().shape[0]} linhas.')\n",
        "print(f'DataFrame Portfolio Comunicados tem {comunicados_df.compute().shape[0]} linhas.')\n",
        "print(f'DataFrame Portfolio Geral tem {geral_df.compute().shape[0]} linhas.')\n",
        "print(f'DataFrame Portfolio TPV tem {tpv_df.compute().shape[0]} linhas.')"
      ],
      "metadata": {
        "colab": {
          "base_uri": "https://localhost:8080/"
        },
        "id": "pYPSoRZTC93E",
        "outputId": "1a12eaab-90da-402f-9779-bdcdd79d65cb"
      },
      "execution_count": 36,
      "outputs": [
        {
          "output_type": "stream",
          "name": "stdout",
          "text": [
            "DataFrame Portfolio Clientes tem 14405 linhas.\n",
            "DataFrame Portfolio Comunicados tem 403740 linhas.\n",
            "DataFrame Portfolio Geral tem 8061006 linhas.\n",
            "DataFrame Portfolio TPV tem 4408597 linhas.\n"
          ]
        }
      ]
    },
    {
      "cell_type": "code",
      "source": [
        "clientes_df.head()"
      ],
      "metadata": {
        "colab": {
          "base_uri": "https://localhost:8080/",
          "height": 206
        },
        "id": "We475ZH1H0Qv",
        "outputId": "04b0edc6-dfdd-42f6-a752-df3effb8397f"
      },
      "execution_count": 37,
      "outputs": [
        {
          "output_type": "execute_result",
          "data": {
            "text/plain": [
              "                       nr_documento tipo_empresa                 cidade  \\\n",
              "0  094aaed740bbd7fcddb6c678c18d883a           PJ                Caucaia   \n",
              "1  eaade7915611fcdcbba747e3a83365c6           PF       Cidade Ocidental   \n",
              "2  1f21958fd296f1b04a1f0c2658913856          MEI                 Manaus   \n",
              "3  fcdfe15db4520db1a1fe8b6a72878655          MEI  São Bernardo do Campo   \n",
              "4  ba57e8837452b5e0114d7e273de039b4           PJ          Foz do Iguaçu   \n",
              "\n",
              "  estado         subsegmento               segmento  \n",
              "0     CE  Alimentação Rápida            Alimentação  \n",
              "1     GO      Lojas Diversas                 Varejo  \n",
              "2     AM  Alimentação Rápida            Alimentação  \n",
              "3     SP  Alimentação Rápida            Alimentação  \n",
              "4     PR      Lojas Diversas  Supermercado/Farmácia  "
            ],
            "text/html": [
              "\n",
              "  <div id=\"df-7b500d4a-1e9d-4876-ad89-846a2c1dab36\">\n",
              "    <div class=\"colab-df-container\">\n",
              "      <div>\n",
              "<style scoped>\n",
              "    .dataframe tbody tr th:only-of-type {\n",
              "        vertical-align: middle;\n",
              "    }\n",
              "\n",
              "    .dataframe tbody tr th {\n",
              "        vertical-align: top;\n",
              "    }\n",
              "\n",
              "    .dataframe thead th {\n",
              "        text-align: right;\n",
              "    }\n",
              "</style>\n",
              "<table border=\"1\" class=\"dataframe\">\n",
              "  <thead>\n",
              "    <tr style=\"text-align: right;\">\n",
              "      <th></th>\n",
              "      <th>nr_documento</th>\n",
              "      <th>tipo_empresa</th>\n",
              "      <th>cidade</th>\n",
              "      <th>estado</th>\n",
              "      <th>subsegmento</th>\n",
              "      <th>segmento</th>\n",
              "    </tr>\n",
              "  </thead>\n",
              "  <tbody>\n",
              "    <tr>\n",
              "      <th>0</th>\n",
              "      <td>094aaed740bbd7fcddb6c678c18d883a</td>\n",
              "      <td>PJ</td>\n",
              "      <td>Caucaia</td>\n",
              "      <td>CE</td>\n",
              "      <td>Alimentação Rápida</td>\n",
              "      <td>Alimentação</td>\n",
              "    </tr>\n",
              "    <tr>\n",
              "      <th>1</th>\n",
              "      <td>eaade7915611fcdcbba747e3a83365c6</td>\n",
              "      <td>PF</td>\n",
              "      <td>Cidade Ocidental</td>\n",
              "      <td>GO</td>\n",
              "      <td>Lojas Diversas</td>\n",
              "      <td>Varejo</td>\n",
              "    </tr>\n",
              "    <tr>\n",
              "      <th>2</th>\n",
              "      <td>1f21958fd296f1b04a1f0c2658913856</td>\n",
              "      <td>MEI</td>\n",
              "      <td>Manaus</td>\n",
              "      <td>AM</td>\n",
              "      <td>Alimentação Rápida</td>\n",
              "      <td>Alimentação</td>\n",
              "    </tr>\n",
              "    <tr>\n",
              "      <th>3</th>\n",
              "      <td>fcdfe15db4520db1a1fe8b6a72878655</td>\n",
              "      <td>MEI</td>\n",
              "      <td>São Bernardo do Campo</td>\n",
              "      <td>SP</td>\n",
              "      <td>Alimentação Rápida</td>\n",
              "      <td>Alimentação</td>\n",
              "    </tr>\n",
              "    <tr>\n",
              "      <th>4</th>\n",
              "      <td>ba57e8837452b5e0114d7e273de039b4</td>\n",
              "      <td>PJ</td>\n",
              "      <td>Foz do Iguaçu</td>\n",
              "      <td>PR</td>\n",
              "      <td>Lojas Diversas</td>\n",
              "      <td>Supermercado/Farmácia</td>\n",
              "    </tr>\n",
              "  </tbody>\n",
              "</table>\n",
              "</div>\n",
              "      <button class=\"colab-df-convert\" onclick=\"convertToInteractive('df-7b500d4a-1e9d-4876-ad89-846a2c1dab36')\"\n",
              "              title=\"Convert this dataframe to an interactive table.\"\n",
              "              style=\"display:none;\">\n",
              "        \n",
              "  <svg xmlns=\"http://www.w3.org/2000/svg\" height=\"24px\"viewBox=\"0 0 24 24\"\n",
              "       width=\"24px\">\n",
              "    <path d=\"M0 0h24v24H0V0z\" fill=\"none\"/>\n",
              "    <path d=\"M18.56 5.44l.94 2.06.94-2.06 2.06-.94-2.06-.94-.94-2.06-.94 2.06-2.06.94zm-11 1L8.5 8.5l.94-2.06 2.06-.94-2.06-.94L8.5 2.5l-.94 2.06-2.06.94zm10 10l.94 2.06.94-2.06 2.06-.94-2.06-.94-.94-2.06-.94 2.06-2.06.94z\"/><path d=\"M17.41 7.96l-1.37-1.37c-.4-.4-.92-.59-1.43-.59-.52 0-1.04.2-1.43.59L10.3 9.45l-7.72 7.72c-.78.78-.78 2.05 0 2.83L4 21.41c.39.39.9.59 1.41.59.51 0 1.02-.2 1.41-.59l7.78-7.78 2.81-2.81c.8-.78.8-2.07 0-2.86zM5.41 20L4 18.59l7.72-7.72 1.47 1.35L5.41 20z\"/>\n",
              "  </svg>\n",
              "      </button>\n",
              "      \n",
              "  <style>\n",
              "    .colab-df-container {\n",
              "      display:flex;\n",
              "      flex-wrap:wrap;\n",
              "      gap: 12px;\n",
              "    }\n",
              "\n",
              "    .colab-df-convert {\n",
              "      background-color: #E8F0FE;\n",
              "      border: none;\n",
              "      border-radius: 50%;\n",
              "      cursor: pointer;\n",
              "      display: none;\n",
              "      fill: #1967D2;\n",
              "      height: 32px;\n",
              "      padding: 0 0 0 0;\n",
              "      width: 32px;\n",
              "    }\n",
              "\n",
              "    .colab-df-convert:hover {\n",
              "      background-color: #E2EBFA;\n",
              "      box-shadow: 0px 1px 2px rgba(60, 64, 67, 0.3), 0px 1px 3px 1px rgba(60, 64, 67, 0.15);\n",
              "      fill: #174EA6;\n",
              "    }\n",
              "\n",
              "    [theme=dark] .colab-df-convert {\n",
              "      background-color: #3B4455;\n",
              "      fill: #D2E3FC;\n",
              "    }\n",
              "\n",
              "    [theme=dark] .colab-df-convert:hover {\n",
              "      background-color: #434B5C;\n",
              "      box-shadow: 0px 1px 3px 1px rgba(0, 0, 0, 0.15);\n",
              "      filter: drop-shadow(0px 1px 2px rgba(0, 0, 0, 0.3));\n",
              "      fill: #FFFFFF;\n",
              "    }\n",
              "  </style>\n",
              "\n",
              "      <script>\n",
              "        const buttonEl =\n",
              "          document.querySelector('#df-7b500d4a-1e9d-4876-ad89-846a2c1dab36 button.colab-df-convert');\n",
              "        buttonEl.style.display =\n",
              "          google.colab.kernel.accessAllowed ? 'block' : 'none';\n",
              "\n",
              "        async function convertToInteractive(key) {\n",
              "          const element = document.querySelector('#df-7b500d4a-1e9d-4876-ad89-846a2c1dab36');\n",
              "          const dataTable =\n",
              "            await google.colab.kernel.invokeFunction('convertToInteractive',\n",
              "                                                     [key], {});\n",
              "          if (!dataTable) return;\n",
              "\n",
              "          const docLinkHtml = 'Like what you see? Visit the ' +\n",
              "            '<a target=\"_blank\" href=https://colab.research.google.com/notebooks/data_table.ipynb>data table notebook</a>'\n",
              "            + ' to learn more about interactive tables.';\n",
              "          element.innerHTML = '';\n",
              "          dataTable['output_type'] = 'display_data';\n",
              "          await google.colab.output.renderOutput(dataTable, element);\n",
              "          const docLink = document.createElement('div');\n",
              "          docLink.innerHTML = docLinkHtml;\n",
              "          element.appendChild(docLink);\n",
              "        }\n",
              "      </script>\n",
              "    </div>\n",
              "  </div>\n",
              "  "
            ]
          },
          "metadata": {},
          "execution_count": 37
        }
      ]
    },
    {
      "cell_type": "code",
      "source": [
        "comunicados_df.head()"
      ],
      "metadata": {
        "colab": {
          "base_uri": "https://localhost:8080/",
          "height": 206
        },
        "id": "hcz9RwCBH10o",
        "outputId": "144c0285-6b1d-4ab0-e1ba-b1fba680d3ca"
      },
      "execution_count": 38,
      "outputs": [
        {
          "output_type": "execute_result",
          "data": {
            "text/plain": [
              "                        contrato_id dt_ref_portfolio  data_acao tipo_acao  \\\n",
              "0  0d823ddff1839eb938dccc68586ae365       2021-01-16 2021-01-18       HSM   \n",
              "1  c2f8a21671dbaeaa4157e03682c639e1       2021-05-22 2021-05-24       HSM   \n",
              "2  e19a222c233d46ff4984489c13aa1b98       2020-09-15 2020-09-15       HSM   \n",
              "3  c24fc7630fe5b89928ba9478c2cdd9b2       2021-07-20 2021-07-20       HSM   \n",
              "4  0abe9c2f21e941f2bd3b086277e33ebc       2020-12-26 2020-12-28       HSM   \n",
              "\n",
              "                 acao        status  \n",
              "0  campanhaobservacao          LIDO  \n",
              "1  campanhaobservacao      ENTREGUE  \n",
              "2  campanhaobservacao  NAO ENTREGUE  \n",
              "3  campanhaobservacao  NAO ENTREGUE  \n",
              "4  campanhaobservacao      ENTREGUE  "
            ],
            "text/html": [
              "\n",
              "  <div id=\"df-c7a0f2bf-3a13-49a0-b0ee-c9a8545263ea\">\n",
              "    <div class=\"colab-df-container\">\n",
              "      <div>\n",
              "<style scoped>\n",
              "    .dataframe tbody tr th:only-of-type {\n",
              "        vertical-align: middle;\n",
              "    }\n",
              "\n",
              "    .dataframe tbody tr th {\n",
              "        vertical-align: top;\n",
              "    }\n",
              "\n",
              "    .dataframe thead th {\n",
              "        text-align: right;\n",
              "    }\n",
              "</style>\n",
              "<table border=\"1\" class=\"dataframe\">\n",
              "  <thead>\n",
              "    <tr style=\"text-align: right;\">\n",
              "      <th></th>\n",
              "      <th>contrato_id</th>\n",
              "      <th>dt_ref_portfolio</th>\n",
              "      <th>data_acao</th>\n",
              "      <th>tipo_acao</th>\n",
              "      <th>acao</th>\n",
              "      <th>status</th>\n",
              "    </tr>\n",
              "  </thead>\n",
              "  <tbody>\n",
              "    <tr>\n",
              "      <th>0</th>\n",
              "      <td>0d823ddff1839eb938dccc68586ae365</td>\n",
              "      <td>2021-01-16</td>\n",
              "      <td>2021-01-18</td>\n",
              "      <td>HSM</td>\n",
              "      <td>campanhaobservacao</td>\n",
              "      <td>LIDO</td>\n",
              "    </tr>\n",
              "    <tr>\n",
              "      <th>1</th>\n",
              "      <td>c2f8a21671dbaeaa4157e03682c639e1</td>\n",
              "      <td>2021-05-22</td>\n",
              "      <td>2021-05-24</td>\n",
              "      <td>HSM</td>\n",
              "      <td>campanhaobservacao</td>\n",
              "      <td>ENTREGUE</td>\n",
              "    </tr>\n",
              "    <tr>\n",
              "      <th>2</th>\n",
              "      <td>e19a222c233d46ff4984489c13aa1b98</td>\n",
              "      <td>2020-09-15</td>\n",
              "      <td>2020-09-15</td>\n",
              "      <td>HSM</td>\n",
              "      <td>campanhaobservacao</td>\n",
              "      <td>NAO ENTREGUE</td>\n",
              "    </tr>\n",
              "    <tr>\n",
              "      <th>3</th>\n",
              "      <td>c24fc7630fe5b89928ba9478c2cdd9b2</td>\n",
              "      <td>2021-07-20</td>\n",
              "      <td>2021-07-20</td>\n",
              "      <td>HSM</td>\n",
              "      <td>campanhaobservacao</td>\n",
              "      <td>NAO ENTREGUE</td>\n",
              "    </tr>\n",
              "    <tr>\n",
              "      <th>4</th>\n",
              "      <td>0abe9c2f21e941f2bd3b086277e33ebc</td>\n",
              "      <td>2020-12-26</td>\n",
              "      <td>2020-12-28</td>\n",
              "      <td>HSM</td>\n",
              "      <td>campanhaobservacao</td>\n",
              "      <td>ENTREGUE</td>\n",
              "    </tr>\n",
              "  </tbody>\n",
              "</table>\n",
              "</div>\n",
              "      <button class=\"colab-df-convert\" onclick=\"convertToInteractive('df-c7a0f2bf-3a13-49a0-b0ee-c9a8545263ea')\"\n",
              "              title=\"Convert this dataframe to an interactive table.\"\n",
              "              style=\"display:none;\">\n",
              "        \n",
              "  <svg xmlns=\"http://www.w3.org/2000/svg\" height=\"24px\"viewBox=\"0 0 24 24\"\n",
              "       width=\"24px\">\n",
              "    <path d=\"M0 0h24v24H0V0z\" fill=\"none\"/>\n",
              "    <path d=\"M18.56 5.44l.94 2.06.94-2.06 2.06-.94-2.06-.94-.94-2.06-.94 2.06-2.06.94zm-11 1L8.5 8.5l.94-2.06 2.06-.94-2.06-.94L8.5 2.5l-.94 2.06-2.06.94zm10 10l.94 2.06.94-2.06 2.06-.94-2.06-.94-.94-2.06-.94 2.06-2.06.94z\"/><path d=\"M17.41 7.96l-1.37-1.37c-.4-.4-.92-.59-1.43-.59-.52 0-1.04.2-1.43.59L10.3 9.45l-7.72 7.72c-.78.78-.78 2.05 0 2.83L4 21.41c.39.39.9.59 1.41.59.51 0 1.02-.2 1.41-.59l7.78-7.78 2.81-2.81c.8-.78.8-2.07 0-2.86zM5.41 20L4 18.59l7.72-7.72 1.47 1.35L5.41 20z\"/>\n",
              "  </svg>\n",
              "      </button>\n",
              "      \n",
              "  <style>\n",
              "    .colab-df-container {\n",
              "      display:flex;\n",
              "      flex-wrap:wrap;\n",
              "      gap: 12px;\n",
              "    }\n",
              "\n",
              "    .colab-df-convert {\n",
              "      background-color: #E8F0FE;\n",
              "      border: none;\n",
              "      border-radius: 50%;\n",
              "      cursor: pointer;\n",
              "      display: none;\n",
              "      fill: #1967D2;\n",
              "      height: 32px;\n",
              "      padding: 0 0 0 0;\n",
              "      width: 32px;\n",
              "    }\n",
              "\n",
              "    .colab-df-convert:hover {\n",
              "      background-color: #E2EBFA;\n",
              "      box-shadow: 0px 1px 2px rgba(60, 64, 67, 0.3), 0px 1px 3px 1px rgba(60, 64, 67, 0.15);\n",
              "      fill: #174EA6;\n",
              "    }\n",
              "\n",
              "    [theme=dark] .colab-df-convert {\n",
              "      background-color: #3B4455;\n",
              "      fill: #D2E3FC;\n",
              "    }\n",
              "\n",
              "    [theme=dark] .colab-df-convert:hover {\n",
              "      background-color: #434B5C;\n",
              "      box-shadow: 0px 1px 3px 1px rgba(0, 0, 0, 0.15);\n",
              "      filter: drop-shadow(0px 1px 2px rgba(0, 0, 0, 0.3));\n",
              "      fill: #FFFFFF;\n",
              "    }\n",
              "  </style>\n",
              "\n",
              "      <script>\n",
              "        const buttonEl =\n",
              "          document.querySelector('#df-c7a0f2bf-3a13-49a0-b0ee-c9a8545263ea button.colab-df-convert');\n",
              "        buttonEl.style.display =\n",
              "          google.colab.kernel.accessAllowed ? 'block' : 'none';\n",
              "\n",
              "        async function convertToInteractive(key) {\n",
              "          const element = document.querySelector('#df-c7a0f2bf-3a13-49a0-b0ee-c9a8545263ea');\n",
              "          const dataTable =\n",
              "            await google.colab.kernel.invokeFunction('convertToInteractive',\n",
              "                                                     [key], {});\n",
              "          if (!dataTable) return;\n",
              "\n",
              "          const docLinkHtml = 'Like what you see? Visit the ' +\n",
              "            '<a target=\"_blank\" href=https://colab.research.google.com/notebooks/data_table.ipynb>data table notebook</a>'\n",
              "            + ' to learn more about interactive tables.';\n",
              "          element.innerHTML = '';\n",
              "          dataTable['output_type'] = 'display_data';\n",
              "          await google.colab.output.renderOutput(dataTable, element);\n",
              "          const docLink = document.createElement('div');\n",
              "          docLink.innerHTML = docLinkHtml;\n",
              "          element.appendChild(docLink);\n",
              "        }\n",
              "      </script>\n",
              "    </div>\n",
              "  </div>\n",
              "  "
            ]
          },
          "metadata": {},
          "execution_count": 38
        }
      ]
    },
    {
      "cell_type": "code",
      "source": [
        "geral_df.head()"
      ],
      "metadata": {
        "colab": {
          "base_uri": "https://localhost:8080/",
          "height": 299
        },
        "id": "XrlegvsOH3Xx",
        "outputId": "2598ef2d-64ce-4cf5-dd04-23c45cb93b5a"
      },
      "execution_count": 39,
      "outputs": [
        {
          "output_type": "execute_result",
          "data": {
            "text/plain": [
              "                        contrato_id dt_ref_portfolio      safra  \\\n",
              "0  356c02706c8e74b15004bb5964ade6bb       2022-03-01 2020-06-01   \n",
              "1  1eb0e13f83f336146227ccc9efb08c47       2022-03-01 2020-07-01   \n",
              "2  8b03675f597974ca96f06648e96af6d4       2022-03-01 2020-08-01   \n",
              "3  4207c25cdd13aba5a05ae348e889d798       2022-03-01 2021-03-01   \n",
              "4  7dfdca96b6ff0dd844e5e130aee88b30       2022-03-01 2020-11-01   \n",
              "\n",
              "                       nr_documento status_contrato dt_contrato dt_desembolso  \\\n",
              "0  b0871d4e0d72afd1d44381e5b2453cb2         Settled  2020-06-24    2020-06-29   \n",
              "1  938513461b4a4fcd2bf99ffd8f12b9be         Settled  2020-07-26    2020-07-28   \n",
              "2  4303bd71ee3fe80aba4efc8dbd6c7d70         Settled  2020-08-13    2020-08-17   \n",
              "3  9c1dc4403f8a4833bd58eea3ee85c917          Active  2021-03-01    2021-03-03   \n",
              "4  3b6951df3075979c99a4dfd9f93efd38          Active  2020-10-31    2020-11-04   \n",
              "\n",
              "  dt_vencimento      dt_wo  prazo  ...  juros_mes  juros_diario  \\\n",
              "0    2020-12-24 2021-12-24     10  ...    0.10788       0.00345   \n",
              "1    2021-10-26 2022-10-26     25  ...    0.04788       0.00157   \n",
              "2    2022-02-13 2023-02-13     30  ...    0.05388       0.00176   \n",
              "3    2022-06-01 2023-06-01     25  ...    0.04788       0.00157   \n",
              "4    2022-01-31 2023-01-31     25  ...    0.04788       0.00157   \n",
              "\n",
              "   perc_retencao  vlr_pgto_realizado  vlr_pgto_esperado  vlr_saldo_devedor  \\\n",
              "0        0.24000                 0.0             163.00               0.55   \n",
              "1        0.08400                 0.0              46.87               0.00   \n",
              "2        0.08076                 0.0              45.57               0.00   \n",
              "3        0.19200                 0.0              43.06            9469.47   \n",
              "4        1.20000                 0.0             200.09           57783.55   \n",
              "\n",
              "   vlr_saldo_devedor_esperado  dsp  dspp  flag_transacao  \n",
              "0                        0.00    0     0               0  \n",
              "1                        0.00    0     0               0  \n",
              "2                        0.00    0     0               0  \n",
              "3                      461.96   20    82               0  \n",
              "4                        0.00  134   167               0  \n",
              "\n",
              "[5 rows x 22 columns]"
            ],
            "text/html": [
              "\n",
              "  <div id=\"df-9ae280d6-f15b-4c87-9b2e-a13f22985118\">\n",
              "    <div class=\"colab-df-container\">\n",
              "      <div>\n",
              "<style scoped>\n",
              "    .dataframe tbody tr th:only-of-type {\n",
              "        vertical-align: middle;\n",
              "    }\n",
              "\n",
              "    .dataframe tbody tr th {\n",
              "        vertical-align: top;\n",
              "    }\n",
              "\n",
              "    .dataframe thead th {\n",
              "        text-align: right;\n",
              "    }\n",
              "</style>\n",
              "<table border=\"1\" class=\"dataframe\">\n",
              "  <thead>\n",
              "    <tr style=\"text-align: right;\">\n",
              "      <th></th>\n",
              "      <th>contrato_id</th>\n",
              "      <th>dt_ref_portfolio</th>\n",
              "      <th>safra</th>\n",
              "      <th>nr_documento</th>\n",
              "      <th>status_contrato</th>\n",
              "      <th>dt_contrato</th>\n",
              "      <th>dt_desembolso</th>\n",
              "      <th>dt_vencimento</th>\n",
              "      <th>dt_wo</th>\n",
              "      <th>prazo</th>\n",
              "      <th>...</th>\n",
              "      <th>juros_mes</th>\n",
              "      <th>juros_diario</th>\n",
              "      <th>perc_retencao</th>\n",
              "      <th>vlr_pgto_realizado</th>\n",
              "      <th>vlr_pgto_esperado</th>\n",
              "      <th>vlr_saldo_devedor</th>\n",
              "      <th>vlr_saldo_devedor_esperado</th>\n",
              "      <th>dsp</th>\n",
              "      <th>dspp</th>\n",
              "      <th>flag_transacao</th>\n",
              "    </tr>\n",
              "  </thead>\n",
              "  <tbody>\n",
              "    <tr>\n",
              "      <th>0</th>\n",
              "      <td>356c02706c8e74b15004bb5964ade6bb</td>\n",
              "      <td>2022-03-01</td>\n",
              "      <td>2020-06-01</td>\n",
              "      <td>b0871d4e0d72afd1d44381e5b2453cb2</td>\n",
              "      <td>Settled</td>\n",
              "      <td>2020-06-24</td>\n",
              "      <td>2020-06-29</td>\n",
              "      <td>2020-12-24</td>\n",
              "      <td>2021-12-24</td>\n",
              "      <td>10</td>\n",
              "      <td>...</td>\n",
              "      <td>0.10788</td>\n",
              "      <td>0.00345</td>\n",
              "      <td>0.24000</td>\n",
              "      <td>0.0</td>\n",
              "      <td>163.00</td>\n",
              "      <td>0.55</td>\n",
              "      <td>0.00</td>\n",
              "      <td>0</td>\n",
              "      <td>0</td>\n",
              "      <td>0</td>\n",
              "    </tr>\n",
              "    <tr>\n",
              "      <th>1</th>\n",
              "      <td>1eb0e13f83f336146227ccc9efb08c47</td>\n",
              "      <td>2022-03-01</td>\n",
              "      <td>2020-07-01</td>\n",
              "      <td>938513461b4a4fcd2bf99ffd8f12b9be</td>\n",
              "      <td>Settled</td>\n",
              "      <td>2020-07-26</td>\n",
              "      <td>2020-07-28</td>\n",
              "      <td>2021-10-26</td>\n",
              "      <td>2022-10-26</td>\n",
              "      <td>25</td>\n",
              "      <td>...</td>\n",
              "      <td>0.04788</td>\n",
              "      <td>0.00157</td>\n",
              "      <td>0.08400</td>\n",
              "      <td>0.0</td>\n",
              "      <td>46.87</td>\n",
              "      <td>0.00</td>\n",
              "      <td>0.00</td>\n",
              "      <td>0</td>\n",
              "      <td>0</td>\n",
              "      <td>0</td>\n",
              "    </tr>\n",
              "    <tr>\n",
              "      <th>2</th>\n",
              "      <td>8b03675f597974ca96f06648e96af6d4</td>\n",
              "      <td>2022-03-01</td>\n",
              "      <td>2020-08-01</td>\n",
              "      <td>4303bd71ee3fe80aba4efc8dbd6c7d70</td>\n",
              "      <td>Settled</td>\n",
              "      <td>2020-08-13</td>\n",
              "      <td>2020-08-17</td>\n",
              "      <td>2022-02-13</td>\n",
              "      <td>2023-02-13</td>\n",
              "      <td>30</td>\n",
              "      <td>...</td>\n",
              "      <td>0.05388</td>\n",
              "      <td>0.00176</td>\n",
              "      <td>0.08076</td>\n",
              "      <td>0.0</td>\n",
              "      <td>45.57</td>\n",
              "      <td>0.00</td>\n",
              "      <td>0.00</td>\n",
              "      <td>0</td>\n",
              "      <td>0</td>\n",
              "      <td>0</td>\n",
              "    </tr>\n",
              "    <tr>\n",
              "      <th>3</th>\n",
              "      <td>4207c25cdd13aba5a05ae348e889d798</td>\n",
              "      <td>2022-03-01</td>\n",
              "      <td>2021-03-01</td>\n",
              "      <td>9c1dc4403f8a4833bd58eea3ee85c917</td>\n",
              "      <td>Active</td>\n",
              "      <td>2021-03-01</td>\n",
              "      <td>2021-03-03</td>\n",
              "      <td>2022-06-01</td>\n",
              "      <td>2023-06-01</td>\n",
              "      <td>25</td>\n",
              "      <td>...</td>\n",
              "      <td>0.04788</td>\n",
              "      <td>0.00157</td>\n",
              "      <td>0.19200</td>\n",
              "      <td>0.0</td>\n",
              "      <td>43.06</td>\n",
              "      <td>9469.47</td>\n",
              "      <td>461.96</td>\n",
              "      <td>20</td>\n",
              "      <td>82</td>\n",
              "      <td>0</td>\n",
              "    </tr>\n",
              "    <tr>\n",
              "      <th>4</th>\n",
              "      <td>7dfdca96b6ff0dd844e5e130aee88b30</td>\n",
              "      <td>2022-03-01</td>\n",
              "      <td>2020-11-01</td>\n",
              "      <td>3b6951df3075979c99a4dfd9f93efd38</td>\n",
              "      <td>Active</td>\n",
              "      <td>2020-10-31</td>\n",
              "      <td>2020-11-04</td>\n",
              "      <td>2022-01-31</td>\n",
              "      <td>2023-01-31</td>\n",
              "      <td>25</td>\n",
              "      <td>...</td>\n",
              "      <td>0.04788</td>\n",
              "      <td>0.00157</td>\n",
              "      <td>1.20000</td>\n",
              "      <td>0.0</td>\n",
              "      <td>200.09</td>\n",
              "      <td>57783.55</td>\n",
              "      <td>0.00</td>\n",
              "      <td>134</td>\n",
              "      <td>167</td>\n",
              "      <td>0</td>\n",
              "    </tr>\n",
              "  </tbody>\n",
              "</table>\n",
              "<p>5 rows × 22 columns</p>\n",
              "</div>\n",
              "      <button class=\"colab-df-convert\" onclick=\"convertToInteractive('df-9ae280d6-f15b-4c87-9b2e-a13f22985118')\"\n",
              "              title=\"Convert this dataframe to an interactive table.\"\n",
              "              style=\"display:none;\">\n",
              "        \n",
              "  <svg xmlns=\"http://www.w3.org/2000/svg\" height=\"24px\"viewBox=\"0 0 24 24\"\n",
              "       width=\"24px\">\n",
              "    <path d=\"M0 0h24v24H0V0z\" fill=\"none\"/>\n",
              "    <path d=\"M18.56 5.44l.94 2.06.94-2.06 2.06-.94-2.06-.94-.94-2.06-.94 2.06-2.06.94zm-11 1L8.5 8.5l.94-2.06 2.06-.94-2.06-.94L8.5 2.5l-.94 2.06-2.06.94zm10 10l.94 2.06.94-2.06 2.06-.94-2.06-.94-.94-2.06-.94 2.06-2.06.94z\"/><path d=\"M17.41 7.96l-1.37-1.37c-.4-.4-.92-.59-1.43-.59-.52 0-1.04.2-1.43.59L10.3 9.45l-7.72 7.72c-.78.78-.78 2.05 0 2.83L4 21.41c.39.39.9.59 1.41.59.51 0 1.02-.2 1.41-.59l7.78-7.78 2.81-2.81c.8-.78.8-2.07 0-2.86zM5.41 20L4 18.59l7.72-7.72 1.47 1.35L5.41 20z\"/>\n",
              "  </svg>\n",
              "      </button>\n",
              "      \n",
              "  <style>\n",
              "    .colab-df-container {\n",
              "      display:flex;\n",
              "      flex-wrap:wrap;\n",
              "      gap: 12px;\n",
              "    }\n",
              "\n",
              "    .colab-df-convert {\n",
              "      background-color: #E8F0FE;\n",
              "      border: none;\n",
              "      border-radius: 50%;\n",
              "      cursor: pointer;\n",
              "      display: none;\n",
              "      fill: #1967D2;\n",
              "      height: 32px;\n",
              "      padding: 0 0 0 0;\n",
              "      width: 32px;\n",
              "    }\n",
              "\n",
              "    .colab-df-convert:hover {\n",
              "      background-color: #E2EBFA;\n",
              "      box-shadow: 0px 1px 2px rgba(60, 64, 67, 0.3), 0px 1px 3px 1px rgba(60, 64, 67, 0.15);\n",
              "      fill: #174EA6;\n",
              "    }\n",
              "\n",
              "    [theme=dark] .colab-df-convert {\n",
              "      background-color: #3B4455;\n",
              "      fill: #D2E3FC;\n",
              "    }\n",
              "\n",
              "    [theme=dark] .colab-df-convert:hover {\n",
              "      background-color: #434B5C;\n",
              "      box-shadow: 0px 1px 3px 1px rgba(0, 0, 0, 0.15);\n",
              "      filter: drop-shadow(0px 1px 2px rgba(0, 0, 0, 0.3));\n",
              "      fill: #FFFFFF;\n",
              "    }\n",
              "  </style>\n",
              "\n",
              "      <script>\n",
              "        const buttonEl =\n",
              "          document.querySelector('#df-9ae280d6-f15b-4c87-9b2e-a13f22985118 button.colab-df-convert');\n",
              "        buttonEl.style.display =\n",
              "          google.colab.kernel.accessAllowed ? 'block' : 'none';\n",
              "\n",
              "        async function convertToInteractive(key) {\n",
              "          const element = document.querySelector('#df-9ae280d6-f15b-4c87-9b2e-a13f22985118');\n",
              "          const dataTable =\n",
              "            await google.colab.kernel.invokeFunction('convertToInteractive',\n",
              "                                                     [key], {});\n",
              "          if (!dataTable) return;\n",
              "\n",
              "          const docLinkHtml = 'Like what you see? Visit the ' +\n",
              "            '<a target=\"_blank\" href=https://colab.research.google.com/notebooks/data_table.ipynb>data table notebook</a>'\n",
              "            + ' to learn more about interactive tables.';\n",
              "          element.innerHTML = '';\n",
              "          dataTable['output_type'] = 'display_data';\n",
              "          await google.colab.output.renderOutput(dataTable, element);\n",
              "          const docLink = document.createElement('div');\n",
              "          docLink.innerHTML = docLinkHtml;\n",
              "          element.appendChild(docLink);\n",
              "        }\n",
              "      </script>\n",
              "    </div>\n",
              "  </div>\n",
              "  "
            ]
          },
          "metadata": {},
          "execution_count": 39
        }
      ]
    },
    {
      "cell_type": "code",
      "source": [
        "tpv_df.head()"
      ],
      "metadata": {
        "colab": {
          "base_uri": "https://localhost:8080/",
          "height": 206
        },
        "id": "ANoENPV2HV2h",
        "outputId": "bc68d895-639a-4110-fe9f-d6fef35f8820"
      },
      "execution_count": 40,
      "outputs": [
        {
          "output_type": "execute_result",
          "data": {
            "text/plain": [
              "                       nr_documento dt_transacao  qtd_transacoes  vlr_tpv\n",
              "0  7f0464355620bc7c137b3546eb90867a     20210505               4    116.5\n",
              "1  7f0464355620bc7c137b3546eb90867a     20210506              20    537.0\n",
              "2  7f0464355620bc7c137b3546eb90867a     20210507              17    440.0\n",
              "3  7f0464355620bc7c137b3546eb90867a     20210508              29   1328.0\n",
              "4  7f0464355620bc7c137b3546eb90867a     20210509              35    969.5"
            ],
            "text/html": [
              "\n",
              "  <div id=\"df-bddde789-83b5-4520-9ea8-ec79355b277c\">\n",
              "    <div class=\"colab-df-container\">\n",
              "      <div>\n",
              "<style scoped>\n",
              "    .dataframe tbody tr th:only-of-type {\n",
              "        vertical-align: middle;\n",
              "    }\n",
              "\n",
              "    .dataframe tbody tr th {\n",
              "        vertical-align: top;\n",
              "    }\n",
              "\n",
              "    .dataframe thead th {\n",
              "        text-align: right;\n",
              "    }\n",
              "</style>\n",
              "<table border=\"1\" class=\"dataframe\">\n",
              "  <thead>\n",
              "    <tr style=\"text-align: right;\">\n",
              "      <th></th>\n",
              "      <th>nr_documento</th>\n",
              "      <th>dt_transacao</th>\n",
              "      <th>qtd_transacoes</th>\n",
              "      <th>vlr_tpv</th>\n",
              "    </tr>\n",
              "  </thead>\n",
              "  <tbody>\n",
              "    <tr>\n",
              "      <th>0</th>\n",
              "      <td>7f0464355620bc7c137b3546eb90867a</td>\n",
              "      <td>20210505</td>\n",
              "      <td>4</td>\n",
              "      <td>116.5</td>\n",
              "    </tr>\n",
              "    <tr>\n",
              "      <th>1</th>\n",
              "      <td>7f0464355620bc7c137b3546eb90867a</td>\n",
              "      <td>20210506</td>\n",
              "      <td>20</td>\n",
              "      <td>537.0</td>\n",
              "    </tr>\n",
              "    <tr>\n",
              "      <th>2</th>\n",
              "      <td>7f0464355620bc7c137b3546eb90867a</td>\n",
              "      <td>20210507</td>\n",
              "      <td>17</td>\n",
              "      <td>440.0</td>\n",
              "    </tr>\n",
              "    <tr>\n",
              "      <th>3</th>\n",
              "      <td>7f0464355620bc7c137b3546eb90867a</td>\n",
              "      <td>20210508</td>\n",
              "      <td>29</td>\n",
              "      <td>1328.0</td>\n",
              "    </tr>\n",
              "    <tr>\n",
              "      <th>4</th>\n",
              "      <td>7f0464355620bc7c137b3546eb90867a</td>\n",
              "      <td>20210509</td>\n",
              "      <td>35</td>\n",
              "      <td>969.5</td>\n",
              "    </tr>\n",
              "  </tbody>\n",
              "</table>\n",
              "</div>\n",
              "      <button class=\"colab-df-convert\" onclick=\"convertToInteractive('df-bddde789-83b5-4520-9ea8-ec79355b277c')\"\n",
              "              title=\"Convert this dataframe to an interactive table.\"\n",
              "              style=\"display:none;\">\n",
              "        \n",
              "  <svg xmlns=\"http://www.w3.org/2000/svg\" height=\"24px\"viewBox=\"0 0 24 24\"\n",
              "       width=\"24px\">\n",
              "    <path d=\"M0 0h24v24H0V0z\" fill=\"none\"/>\n",
              "    <path d=\"M18.56 5.44l.94 2.06.94-2.06 2.06-.94-2.06-.94-.94-2.06-.94 2.06-2.06.94zm-11 1L8.5 8.5l.94-2.06 2.06-.94-2.06-.94L8.5 2.5l-.94 2.06-2.06.94zm10 10l.94 2.06.94-2.06 2.06-.94-2.06-.94-.94-2.06-.94 2.06-2.06.94z\"/><path d=\"M17.41 7.96l-1.37-1.37c-.4-.4-.92-.59-1.43-.59-.52 0-1.04.2-1.43.59L10.3 9.45l-7.72 7.72c-.78.78-.78 2.05 0 2.83L4 21.41c.39.39.9.59 1.41.59.51 0 1.02-.2 1.41-.59l7.78-7.78 2.81-2.81c.8-.78.8-2.07 0-2.86zM5.41 20L4 18.59l7.72-7.72 1.47 1.35L5.41 20z\"/>\n",
              "  </svg>\n",
              "      </button>\n",
              "      \n",
              "  <style>\n",
              "    .colab-df-container {\n",
              "      display:flex;\n",
              "      flex-wrap:wrap;\n",
              "      gap: 12px;\n",
              "    }\n",
              "\n",
              "    .colab-df-convert {\n",
              "      background-color: #E8F0FE;\n",
              "      border: none;\n",
              "      border-radius: 50%;\n",
              "      cursor: pointer;\n",
              "      display: none;\n",
              "      fill: #1967D2;\n",
              "      height: 32px;\n",
              "      padding: 0 0 0 0;\n",
              "      width: 32px;\n",
              "    }\n",
              "\n",
              "    .colab-df-convert:hover {\n",
              "      background-color: #E2EBFA;\n",
              "      box-shadow: 0px 1px 2px rgba(60, 64, 67, 0.3), 0px 1px 3px 1px rgba(60, 64, 67, 0.15);\n",
              "      fill: #174EA6;\n",
              "    }\n",
              "\n",
              "    [theme=dark] .colab-df-convert {\n",
              "      background-color: #3B4455;\n",
              "      fill: #D2E3FC;\n",
              "    }\n",
              "\n",
              "    [theme=dark] .colab-df-convert:hover {\n",
              "      background-color: #434B5C;\n",
              "      box-shadow: 0px 1px 3px 1px rgba(0, 0, 0, 0.15);\n",
              "      filter: drop-shadow(0px 1px 2px rgba(0, 0, 0, 0.3));\n",
              "      fill: #FFFFFF;\n",
              "    }\n",
              "  </style>\n",
              "\n",
              "      <script>\n",
              "        const buttonEl =\n",
              "          document.querySelector('#df-bddde789-83b5-4520-9ea8-ec79355b277c button.colab-df-convert');\n",
              "        buttonEl.style.display =\n",
              "          google.colab.kernel.accessAllowed ? 'block' : 'none';\n",
              "\n",
              "        async function convertToInteractive(key) {\n",
              "          const element = document.querySelector('#df-bddde789-83b5-4520-9ea8-ec79355b277c');\n",
              "          const dataTable =\n",
              "            await google.colab.kernel.invokeFunction('convertToInteractive',\n",
              "                                                     [key], {});\n",
              "          if (!dataTable) return;\n",
              "\n",
              "          const docLinkHtml = 'Like what you see? Visit the ' +\n",
              "            '<a target=\"_blank\" href=https://colab.research.google.com/notebooks/data_table.ipynb>data table notebook</a>'\n",
              "            + ' to learn more about interactive tables.';\n",
              "          element.innerHTML = '';\n",
              "          dataTable['output_type'] = 'display_data';\n",
              "          await google.colab.output.renderOutput(dataTable, element);\n",
              "          const docLink = document.createElement('div');\n",
              "          docLink.innerHTML = docLinkHtml;\n",
              "          element.appendChild(docLink);\n",
              "        }\n",
              "      </script>\n",
              "    </div>\n",
              "  </div>\n",
              "  "
            ]
          },
          "metadata": {},
          "execution_count": 40
        }
      ]
    },
    {
      "cell_type": "markdown",
      "source": [
        "#2. Limpeza dos dados"
      ],
      "metadata": {
        "id": "i1njJFQYtlMk"
      }
    },
    {
      "cell_type": "code",
      "source": [
        "clientes_df.isna().sum().compute()"
      ],
      "metadata": {
        "colab": {
          "base_uri": "https://localhost:8080/"
        },
        "id": "KbTrg8UmuzxA",
        "outputId": "6e210bae-91f2-4440-8011-c2f34c47f384"
      },
      "execution_count": 41,
      "outputs": [
        {
          "output_type": "execute_result",
          "data": {
            "text/plain": [
              "nr_documento    0\n",
              "tipo_empresa    0\n",
              "cidade          0\n",
              "estado          0\n",
              "subsegmento     0\n",
              "segmento        0\n",
              "dtype: int64"
            ]
          },
          "metadata": {},
          "execution_count": 41
        }
      ]
    },
    {
      "cell_type": "code",
      "source": [
        "comunicados_df.isna().sum().compute()"
      ],
      "metadata": {
        "colab": {
          "base_uri": "https://localhost:8080/"
        },
        "id": "yXQkqcswu7x9",
        "outputId": "9058e4d7-dc6f-4ddc-b5b4-f56111b5f692"
      },
      "execution_count": 42,
      "outputs": [
        {
          "output_type": "execute_result",
          "data": {
            "text/plain": [
              "contrato_id         0\n",
              "dt_ref_portfolio    0\n",
              "data_acao           0\n",
              "tipo_acao           0\n",
              "acao                0\n",
              "status              0\n",
              "dtype: int64"
            ]
          },
          "metadata": {},
          "execution_count": 42
        }
      ]
    },
    {
      "cell_type": "code",
      "source": [
        "geral_df.isna().sum().compute()"
      ],
      "metadata": {
        "colab": {
          "base_uri": "https://localhost:8080/"
        },
        "id": "_x5VYIu9vAfd",
        "outputId": "9cd4fa17-c156-4dde-cf6b-f57216ac945c"
      },
      "execution_count": 43,
      "outputs": [
        {
          "output_type": "execute_result",
          "data": {
            "text/plain": [
              "contrato_id                   0\n",
              "dt_ref_portfolio              0\n",
              "safra                         0\n",
              "nr_documento                  0\n",
              "status_contrato               0\n",
              "dt_contrato                   0\n",
              "dt_desembolso                 0\n",
              "dt_vencimento                 0\n",
              "dt_wo                         0\n",
              "prazo                         0\n",
              "vlr_desembolsado              0\n",
              "vlr_tarifa                    0\n",
              "juros_mes                     0\n",
              "juros_diario                  0\n",
              "perc_retencao                 0\n",
              "vlr_pgto_realizado            0\n",
              "vlr_pgto_esperado             0\n",
              "vlr_saldo_devedor             0\n",
              "vlr_saldo_devedor_esperado    0\n",
              "dsp                           0\n",
              "dspp                          0\n",
              "flag_transacao                0\n",
              "dtype: int64"
            ]
          },
          "metadata": {},
          "execution_count": 43
        }
      ]
    },
    {
      "cell_type": "code",
      "source": [
        "tpv_df.isna().sum().compute()"
      ],
      "metadata": {
        "colab": {
          "base_uri": "https://localhost:8080/"
        },
        "id": "-detwCSHt3WY",
        "outputId": "78df9610-9a6e-4314-a688-6b5476fc703b"
      },
      "execution_count": 44,
      "outputs": [
        {
          "output_type": "execute_result",
          "data": {
            "text/plain": [
              "nr_documento      0\n",
              "dt_transacao      0\n",
              "qtd_transacoes    0\n",
              "vlr_tpv           0\n",
              "dtype: int64"
            ]
          },
          "metadata": {},
          "execution_count": 44
        }
      ]
    },
    {
      "cell_type": "code",
      "source": [
        "comunicados_df['status'].value_counts().compute()"
      ],
      "metadata": {
        "colab": {
          "base_uri": "https://localhost:8080/"
        },
        "id": "86hanrbKYRDF",
        "outputId": "3284b68d-a9ca-4dc0-909c-f5ccb015513d"
      },
      "execution_count": 47,
      "outputs": [
        {
          "output_type": "execute_result",
          "data": {
            "text/plain": [
              "NAO ENTREGUE    191207\n",
              "ENTREGUE        137951\n",
              "LIDO             71380\n",
              "RESPONDIDO        3202\n",
              "Name: status, dtype: int64"
            ]
          },
          "metadata": {},
          "execution_count": 47
        }
      ]
    },
    {
      "cell_type": "code",
      "source": [
        "comunicados_df['tipo_acao'].value_counts().compute()"
      ],
      "metadata": {
        "colab": {
          "base_uri": "https://localhost:8080/"
        },
        "id": "qwXaiBJuZDgQ",
        "outputId": "1cefcc2d-e18a-4d18-da2b-6e32b4bad524"
      },
      "execution_count": 48,
      "outputs": [
        {
          "output_type": "execute_result",
          "data": {
            "text/plain": [
              "EMAIL    201870\n",
              "HSM      201870\n",
              "Name: tipo_acao, dtype: int64"
            ]
          },
          "metadata": {},
          "execution_count": 48
        }
      ]
    },
    {
      "cell_type": "code",
      "source": [
        "comunicados_df['acao'].value_counts().compute()"
      ],
      "metadata": {
        "colab": {
          "base_uri": "https://localhost:8080/"
        },
        "id": "MBUBsDeBZTom",
        "outputId": "bdb71343-f883-4542-89a4-78a521d5e0f1"
      },
      "execution_count": 49,
      "outputs": [
        {
          "output_type": "execute_result",
          "data": {
            "text/plain": [
              "campanhaobservacao        213334\n",
              "campanhaparcelamento       89926\n",
              "campanhaboletoquitado      68370\n",
              "campanhaprenegativacao     21190\n",
              "campanhanegativacao        10920\n",
              "Name: acao, dtype: int64"
            ]
          },
          "metadata": {},
          "execution_count": 49
        }
      ]
    }
  ]
}